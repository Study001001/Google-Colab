{
  "nbformat": 4,
  "nbformat_minor": 0,
  "metadata": {
    "colab": {
      "name": "Direct_Downloader.ipynb",
      "provenance": [],
      "collapsed_sections": [
        "vBVLVf79Fzo2"
      ],
      "include_colab_link": true
    },
    "kernelspec": {
      "name": "python3",
      "display_name": "Python 3"
    }
  },
  "cells": [
    {
      "cell_type": "markdown",
      "metadata": {
        "id": "view-in-github",
        "colab_type": "text"
      },
      "source": [
        "<a href=\"https://colab.research.google.com/github/Study001001/Google-Colab/blob/main/Direct_Downloader.ipynb\" target=\"_parent\"><img src=\"https://colab.research.google.com/assets/colab-badge.svg\" alt=\"Open In Colab\"/></a>"
      ]
    },
    {
      "cell_type": "markdown",
      "source": [
        "##Step: 1\n",
        "**Mount Your Google Drive**"
      ],
      "metadata": {
        "id": "vBVLVf79Fzo2"
      }
    },
    {
      "cell_type": "code",
      "metadata": {
        "id": "tBIVklfEqHTK",
        "colab": {
          "base_uri": "https://localhost:8080/"
        },
        "outputId": "176bda5c-180f-494f-eb35-d5acf9a84065"
      },
      "source": [
        "from google.colab import drive\n",
        "drive.mount('/content/drive')"
      ],
      "execution_count": null,
      "outputs": [
        {
          "output_type": "stream",
          "name": "stdout",
          "text": [
            "Mounted at /content/drive\n"
          ]
        }
      ]
    },
    {
      "cell_type": "markdown",
      "source": [
        "##Step: 2\n",
        "**Paste File path & Paste Link**"
      ],
      "metadata": {
        "id": "2oNoRLYVGat1"
      }
    },
    {
      "cell_type": "code",
      "metadata": {
        "id": "xCZnhSXTqtRr"
      },
      "source": [
        "import os\n",
        "os.chdir(\"File Path\")\n",
        "!wget -c \"Download_Link\" --no-check-certificate"
      ],
      "execution_count": null,
      "outputs": []
    }
  ]
}