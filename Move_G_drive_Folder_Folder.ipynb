{
  "cells": [
    {
      "cell_type": "markdown",
      "metadata": {
        "id": "view-in-github",
        "colab_type": "text"
      },
      "source": [
        "<a href=\"https://colab.research.google.com/github/Study001001/Google-Colab/blob/main/Move_G_drive_Folder_Folder.ipynb\" target=\"_parent\"><img src=\"https://colab.research.google.com/assets/colab-badge.svg\" alt=\"Open In Colab\"/></a>"
      ]
    },
    {
      "cell_type": "markdown",
      "source": [
        "**Note: Have To have Full Access of Both Folder**"
      ],
      "metadata": {
        "id": "IeJBjeM1K9VU"
      }
    },
    {
      "cell_type": "markdown",
      "source": [
        "#Step: 1\n",
        "**Mount Your Google Drive**"
      ],
      "metadata": {
        "id": "nw8TqADbJk-V"
      }
    },
    {
      "cell_type": "code",
      "execution_count": null,
      "metadata": {
        "id": "RV7gcRfuO43L",
        "colab": {
          "base_uri": "https://localhost:8080/"
        },
        "outputId": "647772cf-0386-4ac0-cef2-6f5e2920abcb"
      },
      "outputs": [
        {
          "output_type": "stream",
          "name": "stdout",
          "text": [
            "Mounted at /content/drive\n"
          ]
        }
      ],
      "source": [
        "from google.colab import drive\n",
        "drive.mount('/content/drive')"
      ]
    },
    {
      "cell_type": "markdown",
      "source": [
        "#Step: 2\n",
        "Paste Folder Paths"
      ],
      "metadata": {
        "id": "_wtLO3y9J3YS"
      }
    },
    {
      "cell_type": "code",
      "execution_count": null,
      "metadata": {
        "id": "ZEySm2CDWVmu"
      },
      "outputs": [],
      "source": [
        "!sudo cp -r -v \"Form Path\" \"To Path\""
      ]
    }
  ],
  "metadata": {
    "colab": {
      "provenance": [],
      "collapsed_sections": [
        "nw8TqADbJk-V"
      ],
      "include_colab_link": true
    },
    "kernelspec": {
      "display_name": "Python 3",
      "name": "python3"
    },
    "language_info": {
      "name": "python"
    }
  },
  "nbformat": 4,
  "nbformat_minor": 0
}