{
  "nbformat": 4,
  "nbformat_minor": 0,
  "metadata": {
    "colab": {
      "provenance": [],
      "collapsed_sections": [
        "0iQR2vAkqdO3"
      ],
      "include_colab_link": true
    },
    "kernelspec": {
      "name": "python3",
      "display_name": "Python 3"
    },
    "accelerator": "GPU"
  },
  "cells": [
    {
      "cell_type": "markdown",
      "metadata": {
        "id": "view-in-github",
        "colab_type": "text"
      },
      "source": [
        "<a href=\"https://colab.research.google.com/github/Study001001/Google-Colab/blob/main/Unzip__in_GDrive.ipynb\" target=\"_parent\"><img src=\"https://colab.research.google.com/assets/colab-badge.svg\" alt=\"Open In Colab\"/></a>"
      ]
    },
    {
      "cell_type": "markdown",
      "source": [
        "## <FONT COLOR=\"red\"><h1>Mount Google Drive</Font>"
      ],
      "metadata": {
        "id": "0iQR2vAkqdO3"
      }
    },
    {
      "cell_type": "code",
      "source": [
        "from google.colab import drive\n",
        "drive.mount('/content/drive')"
      ],
      "metadata": {
        "id": "5vsMAprtqPnX",
        "outputId": "2ec0105b-2df1-4a4e-e682-b2b9bb6af4b5",
        "colab": {
          "base_uri": "https://localhost:8080/"
        }
      },
      "execution_count": 10,
      "outputs": [
        {
          "output_type": "stream",
          "name": "stdout",
          "text": [
            "Drive already mounted at /content/drive; to attempt to forcibly remount, call drive.mount(\"/content/drive\", force_remount=True).\n"
          ]
        }
      ]
    },
    {
      "cell_type": "markdown",
      "source": [
        "## <FONT COLOR=\"red\"><h1>1. Unzip Files</Font></h1>Watch <a href=\"https://youtu.be/ZIkKpAquYyA?t=114\"> Video</a>"
      ],
      "metadata": {
        "id": "bzcE_6j-qTum"
      }
    },
    {
      "cell_type": "code",
      "source": [
        "!unzip \"/Path your Of.zip\" -d \"/Path Where Yuo want to Extract the zip file/\""
      ],
      "metadata": {
        "id": "4QjVA-XmqVC3"
      },
      "execution_count": null,
      "outputs": []
    },
    {
      "cell_type": "markdown",
      "source": [
        "## <FONT COLOR=\"gree\"><h6><li><FONT COLOR=\"Red\">Note:</Font> Cearful with / While paste path</Font></h6> \n"
      ],
      "metadata": {
        "id": "GMx8bWIx9ih6"
      }
    }
  ]
}